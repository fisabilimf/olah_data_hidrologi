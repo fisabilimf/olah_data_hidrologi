{
 "cells": [
  {
   "cell_type": "code",
   "execution_count": null,
   "id": "664f92f6-9535-4686-b552-ba4fcee77117",
   "metadata": {},
   "outputs": [],
   "source": [
    "import pandas as pd\n",
    "import openpyxl\n",
    "\n",
    "# Load the Excel file and the specific sheet\n",
    "file_path = '/mnt/data/Data Source.xlsx'\n",
    "df = pd.read_excel(file_path, sheet_name='Data')\n",
    "\n",
    "# Task 1: Display the specific range (row 10 to 40, columns 1 to 13)\n",
    "selected_range = df.iloc[9:40, 0:13]\n",
    "print(\"Current Data in the Selected Range:\")\n",
    "print(selected_range)\n",
    "\n",
    "# Task 2: Ask user input to modify data within the selected range\n",
    "# Example: modify the value at row 10, column 1 (index 9, 0)\n",
    "row_to_modify = 9  # Modify the 10th row (index 9)\n",
    "column_to_modify = 0  # Modify the 1st column (index 0)\n",
    "new_value = input(f\"Enter new value for cell at row {row_to_modify+1}, column {column_to_modify+1}: \")\n",
    "\n",
    "# Apply the modification\n",
    "df.iloc[row_to_modify, column_to_modify] = new_value\n",
    "\n",
    "# Task 3: Calculate the sum of each \"Bulan\" column (columns 1 to 13)\n",
    "sum_values = df.iloc[:, 1:13].sum()\n",
    "\n",
    "# Task 4: Calculate the maximum value of each \"Bulan\" column (columns 1 to 13)\n",
    "max_values = df.iloc[:, 1:13].max()\n",
    "\n",
    "# Display the sum and max values for verification\n",
    "print(\"\\nSum of each 'Bulan' column:\")\n",
    "print(sum_values)\n",
    "print(\"\\nMaximum value of each 'Bulan' column:\")\n",
    "print(max_values)\n",
    "\n",
    "# Assign the sum values to the specified range (rows 41 to 42, columns 1 to 13)\n",
    "df.iloc[40:42, 1:13] = sum_values.values\n",
    "\n",
    "# Assign the max values to the specified range (rows 45 to 46, columns 1 to 13)\n",
    "df.iloc[44:46, 1:13] = max_values.values\n",
    "\n",
    "# Save all modifications back to the Excel file\n",
    "with pd.ExcelWriter(file_path, engine='openpyxl', mode='a', if_sheet_exists='overlay') as writer:\n",
    "    df.to_excel(writer, sheet_name='Data', index=False)\n",
    "\n",
    "print(\"\\nData updated successfully, including sum and maximum value calculations.\")\n"
   ]
  }
 ],
 "metadata": {
  "kernelspec": {
   "display_name": "Python 3 (ipykernel)",
   "language": "python",
   "name": "python3"
  },
  "language_info": {
   "codemirror_mode": {
    "name": "ipython",
    "version": 3
   },
   "file_extension": ".py",
   "mimetype": "text/x-python",
   "name": "python",
   "nbconvert_exporter": "python",
   "pygments_lexer": "ipython3",
   "version": "3.12.5"
  }
 },
 "nbformat": 4,
 "nbformat_minor": 5
}
